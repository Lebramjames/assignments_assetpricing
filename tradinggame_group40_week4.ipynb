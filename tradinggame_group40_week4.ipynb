{
 "cells": [
  {
   "cell_type": "code",
   "execution_count": null,
   "metadata": {},
   "outputs": [],
   "source": []
  },
  {
   "cell_type": "markdown",
   "metadata": {},
   "source": [
    "Modern Portfolio Theory (MPT), a hypothesis put forth by Harry Markowitz in his paper \"Portfolio Selection,\" (published in 1952 by the Journal of Finance) is an investment theory based on the idea that risk-averse investors can construct portfolios to optimize or maximize expected return based on a given level of market risk, emphasizing that risk is an inherent part of higher reward. It is one of the most important and influential economic theories dealing with finance and investment.\n",
    "\n"
   ]
  },
  {
   "cell_type": "markdown",
   "metadata": {},
   "source": [
    "**ALPHA:** Alpha is used for mutual funds and all types of investments. It is often represented as a single number (like 3 or -5), but this refers to a percentage measuring how the portfolio or fund performed compared to the benchmark index (i.e. 3% better or 5% worse). Alpha is often used in conjunction with the beta, which measures volatility or risk. Alpha is also often referred to as “excess return” or “abnormal rate of return.”\n"
   ]
  },
  {
   "cell_type": "markdown",
   "metadata": {},
   "source": [
    "**BETA:** Beta (aka Beta Coefficient) is a measure of the volatility, or systematic risk, of a security or a portfolio in comparison to the market as a whole. Beta is used in the capital asset pricing model (CAPM), which calculates the expected return of an asset based on its beta and expected market returns.\n",
    "- A beta of 1 indicates that the security's price moves with the market. A beta of less than 1 means that the security is theoretically less volatile than the market. A beta of greater than 1 indicates that the security's price is theoretically more volatile than the market.\n",
    "\n",
    "How we interpreted BETA: \n",
    "- week 1: we took the beta's that where higher than the market beta (HIGHER volatility compared to )"
   ]
  },
  {
   "cell_type": "code",
   "execution_count": null,
   "metadata": {},
   "outputs": [],
   "source": [
    "# Efficient frontier: \n",
    "# https://blog.quantinsti.com/modern-portfolio-capital-asset-pricing-fama-french-three-factor-model/\n",
    "\n",
    "\n",
    "# FF french: model\n",
    "# CAPM model\n",
    "# Efficient frontier\n",
    "\n",
    "\n",
    "\n",
    "# Diversification: look at correlation coefficient\n",
    "# "
   ]
  },
  {
   "cell_type": "markdown",
   "metadata": {},
   "source": [
    "## Stock valuation: "
   ]
  },
  {
   "cell_type": "code",
   "execution_count": 1,
   "metadata": {},
   "outputs": [],
   "source": [
    "# ESG Rating: \n",
    "\n",
    "\n",
    "# Fama french coefficients, different methods: \n",
    "\n",
    "# CAPM Model \n",
    "\n",
    "# Multiple factor model vs CAPM: By including these two additional factors, the model adjusts for the outperformance tendency, which is thought to make it a better tool for evaluating manager performance.\n",
    "# SIZE: This model considers the fact that value and small-cap stocks outperform markets on a regular basis.\n",
    "# \n",
    "\n",
    "\n",
    "# (1) interpolating FF data: \n",
    "\n",
    "\n",
    "\n",
    "# (2) Calculating coefficients: \n",
    "\n",
    "\n",
    "\n",
    "\n",
    "# DEBATE: \n",
    "\n",
    "\n",
    "# Prospect theory: \n",
    "\n",
    "\n"
   ]
  },
  {
   "cell_type": "markdown",
   "metadata": {},
   "source": [
    "**MPT:**"
   ]
  },
  {
   "cell_type": "markdown",
   "metadata": {},
   "source": [
    "## Weighting methods: "
   ]
  },
  {
   "cell_type": "code",
   "execution_count": null,
   "metadata": {},
   "outputs": [],
   "source": [
    "# Sharpe ratio:\n",
    "\n",
    "\n",
    "# Equal weighting: \n",
    "\n",
    "\n",
    "# ???"
   ]
  },
  {
   "cell_type": "markdown",
   "metadata": {},
   "source": [
    "## Backtesting\n",
    "- Sensitivity analysis\n",
    "- ??"
   ]
  },
  {
   "cell_type": "code",
   "execution_count": null,
   "metadata": {},
   "outputs": [],
   "source": [
    "# Backtesting: \n",
    "# https://blog.quantinsti.com/backtesting/\n",
    "\n",
    "\n"
   ]
  }
 ],
 "metadata": {
  "kernelspec": {
   "display_name": "base",
   "language": "python",
   "name": "python3"
  },
  "language_info": {
   "codemirror_mode": {
    "name": "ipython",
    "version": 3
   },
   "file_extension": ".py",
   "mimetype": "text/x-python",
   "name": "python",
   "nbconvert_exporter": "python",
   "pygments_lexer": "ipython3",
   "version": "3.9.13"
  }
 },
 "nbformat": 4,
 "nbformat_minor": 2
}
