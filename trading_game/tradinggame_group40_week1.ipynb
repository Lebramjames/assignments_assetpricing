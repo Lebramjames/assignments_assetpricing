{
 "cells": [
  {
   "cell_type": "code",
   "execution_count": 1,
   "metadata": {},
   "outputs": [],
   "source": [
    "import numpy as np\n",
    "import matplotlib.pyplot as plt\n",
    "import pandas as pd\n",
    "import scipy.optimize as opt"
   ]
  },
  {
   "cell_type": "code",
   "execution_count": 2,
   "metadata": {},
   "outputs": [],
   "source": [
    "# data: \n",
    "folder = 'data'\n",
    "xls_dict  = pd.read_excel(folder + '/trading-game-data-08112023.xlsx', sheet_name=None)\n",
    "\n",
    "index_price_df = xls_dict['index-price']\n",
    "price_df = xls_dict['price']\n",
    "size_df = xls_dict['size']\n",
    "price_to_book_df = xls_dict['price-to-book']\n",
    "turnover_df = xls_dict['turnover']"
   ]
  },
  {
   "cell_type": "markdown",
   "metadata": {},
   "source": [
    "## Markowitz Portfolio Theory"
   ]
  },
  {
   "cell_type": "code",
   "execution_count": 3,
   "metadata": {},
   "outputs": [
    {
     "data": {
      "text/plain": [
       "WMT      0.008384\n",
       "KO       0.008696\n",
       "MCD      0.008889\n",
       "BRK.B    0.008931\n",
       "PG       0.009294\n",
       "           ...   \n",
       "GNRC     0.036768\n",
       "SEDG     0.038786\n",
       "CMA      0.039898\n",
       "ZION     0.041273\n",
       "CTLT     0.042210\n",
       "Length: 500, dtype: float64"
      ]
     },
     "execution_count": 3,
     "metadata": {},
     "output_type": "execute_result"
    }
   ],
   "source": [
    "price_df = xls_dict['price'].reset_index()\n",
    "price_df = price_df.drop('index', axis = 1)\n",
    "price_df['Date'] = pd.to_datetime(price_df['Date'])\n",
    "price_df.set_index('Date', inplace=True)\n",
    "daily_returns = price_df.pct_change()\n",
    "expected_returns = daily_returns.mean()\n",
    "risk = daily_returns.std()\n",
    "\n",
    "risk.sort_values()"
   ]
  },
  {
   "cell_type": "markdown",
   "metadata": {},
   "source": [
    "## CAPM model\n",
    "- Time horizon is the full dataframe"
   ]
  },
  {
   "cell_type": "code",
   "execution_count": 4,
   "metadata": {},
   "outputs": [
    {
     "data": {
      "text/plain": [
       "A       0.892179\n",
       "AAL     1.329263\n",
       "AAPL    1.141045\n",
       "ABBV    0.170225\n",
       "ABNB    1.641490\n",
       "          ...   \n",
       "YUM     0.572034\n",
       "ZBH     0.598824\n",
       "ZBRA    1.630006\n",
       "ZION    2.190876\n",
       "ZTS     1.022609\n",
       "Name: SP500, Length: 500, dtype: float64"
      ]
     },
     "execution_count": 4,
     "metadata": {},
     "output_type": "execute_result"
    }
   ],
   "source": [
    "def calc_CAPM_betas(daily_returns, sp_500_daily_returns):\n",
    "    \"\"\"\n",
    "    Calculate the CAPM beta values for the stocks in the daily_returns DataFrame.\n",
    "    \"\"\"\n",
    "    \n",
    "    # Join the daily returns of the stocks with the S&P 500 daily returns\n",
    "    daily_returns_with_sp500 = daily_returns.join(sp_500_daily_returns.rename('SP500'))\n",
    "    \n",
    "    # Calculate the covariance matrix of the returns\n",
    "    cov_matrix_with_sp500 = daily_returns_with_sp500.cov()\n",
    "    \n",
    "    # The market variance is the variance of the S&P 500 returns\n",
    "    market_var = sp_500_daily_returns.var()\n",
    "    \n",
    "    # Calculate the betas for each stock\n",
    "    betas = cov_matrix_with_sp500.loc[:, 'SP500'] / market_var\n",
    "    \n",
    "    # if ['index'] in betas.columns: \n",
    "    betas = betas.drop(['SP500'], axis=0)\n",
    "    return betas\n",
    "\n",
    "index_price_df = xls_dict['index-price'].reset_index()\n",
    "index_price_df['Date'] = pd.to_datetime(index_price_df['Date'])\n",
    "index_price_df.set_index('Date', inplace=True)\n",
    "sp_500_daily_returns = index_price_df['S&P 500'].pct_change()\n",
    "\n",
    "n_observations = index_price_df.shape[0]\n",
    "\n",
    "betas = calc_CAPM_betas(daily_returns, sp_500_daily_returns)\n",
    "betas"
   ]
  },
  {
   "cell_type": "code",
   "execution_count": 5,
   "metadata": {},
   "outputs": [
    {
     "name": "stdout",
     "output_type": "stream",
     "text": [
      "          Beta  Expected Return  Average Return Over/Under Valued\n",
      "A     0.892179         0.130986       -0.275985        Overvalued\n",
      "AAL   1.329263         0.171789       -0.024790        Overvalued\n",
      "AAPL  1.141045         0.154218        0.356988       Undervalued\n",
      "ABBV  0.170225         0.063591       -0.110896        Overvalued\n",
      "ABNB  1.641490         0.200936        0.429907       Undervalued\n",
      "...        ...              ...             ...               ...\n",
      "YUM   0.572034         0.101100       -0.009127        Overvalued\n",
      "ZBH   0.598824         0.103601       -0.166722        Overvalued\n",
      "ZBRA  1.630006         0.199864       -0.135159        Overvalued\n",
      "ZION  2.190876         0.252222       -0.178857        Overvalued\n",
      "ZTS   1.022609         0.143162        0.160190       Undervalued\n",
      "\n",
      "[500 rows x 4 columns]\n"
     ]
    }
   ],
   "source": [
    "def calc_expectedreturns(daily_returns, rf_rate, betas, market_return):\n",
    "    expected_returns = rf_rate + betas * (market_return - rf_rate)\n",
    "    \n",
    "    average_returns = daily_returns.mean() * n_observations  # Assuming 252 trading days in a year\n",
    "\n",
    "    # Step 3: Determine undervalued/overvalued stocks\n",
    "    comparison = pd.DataFrame({\n",
    "        'Beta': betas,\n",
    "        'Expected Return': expected_returns,\n",
    "        'Average Return': average_returns\n",
    "    })\n",
    "    comparison['Over/Under Valued'] = comparison.apply(\n",
    "        lambda row: 'Undervalued' if row['Average Return'] > row['Expected Return'] else 'Overvalued',\n",
    "        axis=1\n",
    "    )\n",
    "    \n",
    "    return comparison\n",
    "\n",
    "if 'index' in daily_returns.columns:\n",
    "    daily_returns = daily_returns.drop(['index'], axis=1).copy()\n",
    "\n",
    "market_return = np.prod(1 + sp_500_daily_returns.dropna())**(n_observations / len(sp_500_daily_returns.dropna())) - 1\n",
    "risk_free_rate = 0.0477 \n",
    "result_df = calc_expectedreturns(daily_returns, risk_free_rate,betas, market_return)\n",
    "print(result_df)"
   ]
  },
  {
   "cell_type": "code",
   "execution_count": 6,
   "metadata": {},
   "outputs": [
    {
     "name": "stderr",
     "output_type": "stream",
     "text": [
      "C:\\Users\\bramg\\AppData\\Local\\Temp\\ipykernel_24112\\2704598515.py:2: SettingWithCopyWarning: \n",
      "A value is trying to be set on a copy of a slice from a DataFrame.\n",
      "Try using .loc[row_indexer,col_indexer] = value instead\n",
      "\n",
      "See the caveats in the documentation: https://pandas.pydata.org/pandas-docs/stable/user_guide/indexing.html#returning-a-view-versus-a-copy\n",
      "  undervalued_stocks['Undervalued Score'] = undervalued_stocks['Average Return'] - undervalued_stocks['Expected Return']\n",
      "C:\\Users\\bramg\\AppData\\Local\\Temp\\ipykernel_24112\\2704598515.py:14: SettingWithCopyWarning: \n",
      "A value is trying to be set on a copy of a slice from a DataFrame.\n",
      "Try using .loc[row_indexer,col_indexer] = value instead\n",
      "\n",
      "See the caveats in the documentation: https://pandas.pydata.org/pandas-docs/stable/user_guide/indexing.html#returning-a-view-versus-a-copy\n",
      "  overvalued_stocks['Potential'] = overvalued_stocks['Average Return'] - overvalued_stocks['Expected Return']\n"
     ]
    }
   ],
   "source": [
    "undervalued_stocks = result_df[result_df['Over/Under Valued'] == 'Undervalued']\n",
    "undervalued_stocks['Undervalued Score'] = undervalued_stocks['Average Return'] - undervalued_stocks['Expected Return']\n",
    "undervalued_count = len(undervalued_stocks)\n",
    "\n",
    "if undervalued_count > 200:\n",
    "    # If there are more than 200 undervalued stocks, select the MOST undervalued\n",
    "    most_undervalued_stocks = undervalued_stocks.sort_values(by='Undervalued Score', ascending=False)\n",
    "    top_undervalued_stocks = most_undervalued_stocks.head(200)\n",
    "    selected_stocks = top_undervalued_stocks.index\n",
    "\n",
    "elif undervalued_count < 200:\n",
    "    # If there are less than 200 undervalued stocks, select out of the overvalued the least overvalued ones\n",
    "    overvalued_stocks = result_df[result_df['Over/Under Valued'] == 'Overvalued']\n",
    "    overvalued_stocks['Potential'] = overvalued_stocks['Average Return'] - overvalued_stocks['Expected Return']\n",
    "    sorted_overvalued_stocks = overvalued_stocks.sort_values(by='Potential', ascending=False)\n",
    "    combined_stocks = pd.concat([undervalued_stocks, sorted_overvalued_stocks.head(200 - undervalued_count)])\n",
    "    selected_stocks = combined_stocks.index\n",
    "    \n",
    "else: \n",
    "    selected_stocks = undervalued_stocks.index"
   ]
  },
  {
   "cell_type": "code",
   "execution_count": 7,
   "metadata": {},
   "outputs": [
    {
     "ename": "NameError",
     "evalue": "name 'stocks_with_weights' is not defined",
     "output_type": "error",
     "traceback": [
      "\u001b[1;31m---------------------------------------------------------------------------\u001b[0m",
      "\u001b[1;31mNameError\u001b[0m                                 Traceback (most recent call last)",
      "\u001b[1;32m~\\AppData\\Local\\Temp\\ipykernel_24112\\3284788106.py\u001b[0m in \u001b[0;36m<module>\u001b[1;34m\u001b[0m\n\u001b[1;32m----> 1\u001b[1;33m \u001b[0mselected_stock_names\u001b[0m \u001b[1;33m=\u001b[0m \u001b[0mstocks_with_weights\u001b[0m\u001b[1;33m[\u001b[0m\u001b[1;34m'Stock'\u001b[0m\u001b[1;33m]\u001b[0m\u001b[1;33m.\u001b[0m\u001b[0mtolist\u001b[0m\u001b[1;33m(\u001b[0m\u001b[1;33m)\u001b[0m\u001b[1;33m\u001b[0m\u001b[1;33m\u001b[0m\u001b[0m\n\u001b[0m\u001b[0;32m      2\u001b[0m \u001b[0mfiltered_result_df\u001b[0m \u001b[1;33m=\u001b[0m \u001b[0mresult_df\u001b[0m\u001b[1;33m[\u001b[0m\u001b[0mresult_df\u001b[0m\u001b[1;33m.\u001b[0m\u001b[0mindex\u001b[0m\u001b[1;33m.\u001b[0m\u001b[0misin\u001b[0m\u001b[1;33m(\u001b[0m\u001b[0mselected_stock_names\u001b[0m\u001b[1;33m)\u001b[0m\u001b[1;33m]\u001b[0m\u001b[1;33m\u001b[0m\u001b[1;33m\u001b[0m\u001b[0m\n\u001b[0;32m      3\u001b[0m \u001b[0mfiltered_result_df\u001b[0m\u001b[1;33m\u001b[0m\u001b[1;33m\u001b[0m\u001b[0m\n",
      "\u001b[1;31mNameError\u001b[0m: name 'stocks_with_weights' is not defined"
     ]
    }
   ],
   "source": [
    "selected_stock_names = stocks_with_weights['Stock'].tolist()\n",
    "filtered_result_df = result_df[result_df.index.isin(selected_stock_names)]\n",
    "filtered_result_df"
   ]
  },
  {
   "cell_type": "code",
   "execution_count": 8,
   "metadata": {},
   "outputs": [],
   "source": [
    "newdata = price_df.drop(price_df.columns[0], axis=1)\n",
    "returns = np.log(newdata/newdata.shift(1))\n",
    "returns = returns.drop(returns.index[0])  \n",
    "returns = returns[selected_stocks]\n",
    "\n",
    "n_stocks = len(selected_stocks)"
   ]
  },
  {
   "cell_type": "code",
   "execution_count": 10,
   "metadata": {},
   "outputs": [],
   "source": [
    "def objective_function(weights: list, returns):\n",
    "    \n",
    "    mean_returns = np.mean(returns, axis=0)\n",
    "    portfolio_return = weights @  mean_returns\n",
    "\n",
    "    portfolio_std = np.sqrt(weights @ np.cov(returns.T) @ weights.T)\n",
    "    # print(portfolio_std)\n",
    "\n",
    "    return -1 * (portfolio_return - 0.25 * portfolio_std)  # Minimize the negative of the objective\n",
    "\n",
    "initial_weights = np.array([1 / n_stocks] * n_stocks)\n",
    "constraints = ( \n",
    "        {'type': 'ineq', 'fun': lambda weights: 0.85 - np.sum(weights)},  # Sum of weights >= 0.85\n",
    "        {'type': 'ineq', 'fun': lambda weights: np.sum(weights) - 1.0}  # Sum of weights <= 1\n",
    "    )\n",
    "bounds = tuple((0, 1) for x in range(n_stocks))\n",
    "\n",
    "\n",
    "optimized = opt.minimize(objective_function, initial_weights, args= (returns), bounds=bounds, constraints=constraints)  # Adjust the method as needed\n",
    "optimal_weights = optimized.x"
   ]
  },
  {
   "cell_type": "code",
   "execution_count": 12,
   "metadata": {},
   "outputs": [
    {
     "data": {
      "text/html": [
       "<div>\n",
       "<style scoped>\n",
       "    .dataframe tbody tr th:only-of-type {\n",
       "        vertical-align: middle;\n",
       "    }\n",
       "\n",
       "    .dataframe tbody tr th {\n",
       "        vertical-align: top;\n",
       "    }\n",
       "\n",
       "    .dataframe thead th {\n",
       "        text-align: right;\n",
       "    }\n",
       "</style>\n",
       "<table border=\"1\" class=\"dataframe\">\n",
       "  <thead>\n",
       "    <tr style=\"text-align: right;\">\n",
       "      <th></th>\n",
       "      <th>Stock</th>\n",
       "      <th>Weight</th>\n",
       "    </tr>\n",
       "  </thead>\n",
       "  <tbody>\n",
       "    <tr>\n",
       "      <th>27</th>\n",
       "      <td>CBOE</td>\n",
       "      <td>0.256455</td>\n",
       "    </tr>\n",
       "    <tr>\n",
       "      <th>36</th>\n",
       "      <td>CMG</td>\n",
       "      <td>0.032481</td>\n",
       "    </tr>\n",
       "    <tr>\n",
       "      <th>37</th>\n",
       "      <td>COR</td>\n",
       "      <td>0.063093</td>\n",
       "    </tr>\n",
       "    <tr>\n",
       "      <th>62</th>\n",
       "      <td>GE</td>\n",
       "      <td>0.100287</td>\n",
       "    </tr>\n",
       "    <tr>\n",
       "      <th>78</th>\n",
       "      <td>LLY</td>\n",
       "      <td>0.144707</td>\n",
       "    </tr>\n",
       "    <tr>\n",
       "      <th>83</th>\n",
       "      <td>MCK</td>\n",
       "      <td>0.020434</td>\n",
       "    </tr>\n",
       "    <tr>\n",
       "      <th>85</th>\n",
       "      <td>META</td>\n",
       "      <td>0.129168</td>\n",
       "    </tr>\n",
       "    <tr>\n",
       "      <th>89</th>\n",
       "      <td>MPC</td>\n",
       "      <td>0.031464</td>\n",
       "    </tr>\n",
       "    <tr>\n",
       "      <th>99</th>\n",
       "      <td>NVDA</td>\n",
       "      <td>0.113009</td>\n",
       "    </tr>\n",
       "    <tr>\n",
       "      <th>106</th>\n",
       "      <td>PANW</td>\n",
       "      <td>0.020049</td>\n",
       "    </tr>\n",
       "    <tr>\n",
       "      <th>108</th>\n",
       "      <td>PGR</td>\n",
       "      <td>0.025977</td>\n",
       "    </tr>\n",
       "    <tr>\n",
       "      <th>110</th>\n",
       "      <td>PHM</td>\n",
       "      <td>0.035951</td>\n",
       "    </tr>\n",
       "    <tr>\n",
       "      <th>119</th>\n",
       "      <td>RSG</td>\n",
       "      <td>0.026924</td>\n",
       "    </tr>\n",
       "  </tbody>\n",
       "</table>\n",
       "</div>"
      ],
      "text/plain": [
       "    Stock    Weight\n",
       "27   CBOE  0.256455\n",
       "36    CMG  0.032481\n",
       "37    COR  0.063093\n",
       "62     GE  0.100287\n",
       "78    LLY  0.144707\n",
       "83    MCK  0.020434\n",
       "85   META  0.129168\n",
       "89    MPC  0.031464\n",
       "99   NVDA  0.113009\n",
       "106  PANW  0.020049\n",
       "108   PGR  0.025977\n",
       "110   PHM  0.035951\n",
       "119   RSG  0.026924"
      ]
     },
     "execution_count": 12,
     "metadata": {},
     "output_type": "execute_result"
    }
   ],
   "source": [
    "stock_names = returns.columns\n",
    "stocks_with_weights = calc_normalized_weights(optimal_weights, stock_names, threshold=0.01)\n",
    "stocks_with_weights"
   ]
  },
  {
   "cell_type": "code",
   "execution_count": 13,
   "metadata": {},
   "outputs": [
    {
     "data": {
      "text/plain": [
       "(13, 2)"
      ]
     },
     "execution_count": 13,
     "metadata": {},
     "output_type": "execute_result"
    }
   ],
   "source": [
    "stock_names = returns.columns\n",
    "stocks_with_weights = calc_normalized_weights(optimal_weights, stock_names, threshold=0.001)\n",
    "stocks_with_weights.shape"
   ]
  }
 ],
 "metadata": {
  "kernelspec": {
   "display_name": "base",
   "language": "python",
   "name": "python3"
  },
  "language_info": {
   "codemirror_mode": {
    "name": "ipython",
    "version": 3
   },
   "file_extension": ".py",
   "mimetype": "text/x-python",
   "name": "python",
   "nbconvert_exporter": "python",
   "pygments_lexer": "ipython3",
   "version": "3.9.13"
  }
 },
 "nbformat": 4,
 "nbformat_minor": 2
}
