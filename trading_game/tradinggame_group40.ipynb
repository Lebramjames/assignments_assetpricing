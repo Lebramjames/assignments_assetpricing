{
 "cells": [
  {
   "cell_type": "code",
   "execution_count": 73,
   "metadata": {},
   "outputs": [],
   "source": [
    "import numpy as np\n",
    "import matplotlib.pyplot as plt\n",
    "import pandas as pd\n",
    "import scipy.optimize as opt"
   ]
  },
  {
   "cell_type": "code",
   "execution_count": 74,
   "metadata": {},
   "outputs": [],
   "source": [
    "# data: \n",
    "folder = 'data'\n",
    "xls_dict  = pd.read_excel(folder + '/trading-game-data-20102023.xlsx', sheet_name=None)\n",
    "\n",
    "index_price_df = xls_dict['index-price']\n",
    "price_df = xls_dict['price']\n",
    "size_df = xls_dict['size']\n",
    "price_to_book_df = xls_dict['price-to-book']\n",
    "turnover_df = xls_dict['turnover']"
   ]
  },
  {
   "cell_type": "markdown",
   "metadata": {},
   "source": [
    "## Markowitz Portfolio Theory"
   ]
  },
  {
   "cell_type": "code",
   "execution_count": 115,
   "metadata": {},
   "outputs": [
    {
     "data": {
      "text/plain": [
       "WMT      0.008431\n",
       "KO       0.008471\n",
       "MCD      0.008852\n",
       "BRK.B    0.008859\n",
       "PG       0.009301\n",
       "           ...   \n",
       "KEY      0.036913\n",
       "SEDG     0.038979\n",
       "CMA      0.040414\n",
       "CTLT     0.041364\n",
       "ZION     0.041840\n",
       "Length: 500, dtype: float64"
      ]
     },
     "execution_count": 115,
     "metadata": {},
     "output_type": "execute_result"
    }
   ],
   "source": [
    "price_df = xls_dict['price'].reset_index()\n",
    "price_df = price_df.drop('index', axis = 1)\n",
    "price_df['Date'] = pd.to_datetime(price_df['Date'])\n",
    "price_df.set_index('Date', inplace=True)\n",
    "daily_returns = price_df.pct_change()\n",
    "expected_returns = daily_returns.mean()\n",
    "risk = daily_returns.std()\n",
    "\n",
    "risk.sort_values()"
   ]
  },
  {
   "cell_type": "markdown",
   "metadata": {},
   "source": [
    "## CAPM model\n",
    "- Time horizon is the full dataframe"
   ]
  },
  {
   "cell_type": "code",
   "execution_count": 62,
   "metadata": {},
   "outputs": [
    {
     "data": {
      "text/plain": [
       "A       0.912992\n",
       "AAL     1.348263\n",
       "AAPL    1.150799\n",
       "ABBV    0.130669\n",
       "ABNB    1.690057\n",
       "          ...   \n",
       "YUM     0.556312\n",
       "ZBH     0.571193\n",
       "ZBRA    1.702181\n",
       "ZION    2.221824\n",
       "ZTS     0.977542\n",
       "Name: SP500, Length: 500, dtype: float64"
      ]
     },
     "execution_count": 62,
     "metadata": {},
     "output_type": "execute_result"
    }
   ],
   "source": [
    "def calc_CAPM_betas(daily_returns, sp_500_daily_returns):\n",
    "    \"\"\"\n",
    "    Calculate the CAPM beta values for the stocks in the daily_returns DataFrame.\n",
    "    \"\"\"\n",
    "    \n",
    "    # Join the daily returns of the stocks with the S&P 500 daily returns\n",
    "    daily_returns_with_sp500 = daily_returns.join(sp_500_daily_returns.rename('SP500'))\n",
    "    \n",
    "    # Calculate the covariance matrix of the returns\n",
    "    cov_matrix_with_sp500 = daily_returns_with_sp500.cov()\n",
    "    \n",
    "    # The market variance is the variance of the S&P 500 returns\n",
    "    market_var = sp_500_daily_returns.var()\n",
    "    \n",
    "    # Calculate the betas for each stock\n",
    "    betas = cov_matrix_with_sp500.loc[:, 'SP500'] / market_var\n",
    "    \n",
    "    betas = betas.drop(['SP500', 'index'], axis=0)\n",
    "    return betas\n",
    "\n",
    "index_price_df = xls_dict['index-price'].reset_index()\n",
    "index_price_df['Date'] = pd.to_datetime(index_price_df['Date'])\n",
    "index_price_df.set_index('Date', inplace=True)\n",
    "sp_500_daily_returns = index_price_df['S&P 500'].pct_change()\n",
    "\n",
    "betas = calc_CAPM_betas(daily_returns, sp_500_daily_returns)\n",
    "betas"
   ]
  },
  {
   "cell_type": "code",
   "execution_count": 71,
   "metadata": {},
   "outputs": [
    {
     "name": "stdout",
     "output_type": "stream",
     "text": [
      "          Beta  Expected Return  Average Return Over/Under Valued\n",
      "A     0.912992         0.119640       -0.361128        Overvalued\n",
      "AAL   1.348263         0.153937       -0.107494        Overvalued\n",
      "AAPL  1.150799         0.138378        0.378982       Undervalued\n",
      "ABBV  0.130669         0.057996       -0.104357        Overvalued\n",
      "ABNB  1.690057         0.180869        0.479042       Undervalued\n",
      "...        ...              ...             ...               ...\n",
      "YUM   0.556312         0.091535       -0.068445        Overvalued\n",
      "ZBH   0.571193         0.092707       -0.225642        Overvalued\n",
      "ZBRA  1.702181         0.181824       -0.195368        Overvalued\n",
      "ZION  2.221824         0.222770       -0.390007        Overvalued\n",
      "ZTS   0.977542         0.124726        0.193654       Undervalued\n",
      "\n",
      "[500 rows x 4 columns]\n"
     ]
    }
   ],
   "source": [
    "def calc_expectedreturns(daily_returns, rf_rate, betas, market_return):\n",
    "    expected_returns = rf_rate + betas * (market_return - rf_rate)\n",
    "    \n",
    "    average_returns = daily_returns.mean() * 252  # Assuming 252 trading days in a year\n",
    "\n",
    "    # Step 3: Determine undervalued/overvalued stocks\n",
    "    comparison = pd.DataFrame({\n",
    "        'Beta': betas,\n",
    "        'Expected Return': expected_returns,\n",
    "        'Average Return': average_returns\n",
    "    })\n",
    "    comparison['Over/Under Valued'] = comparison.apply(\n",
    "        lambda row: 'Undervalued' if row['Average Return'] > row['Expected Return'] else 'Overvalued',\n",
    "        axis=1\n",
    "    )\n",
    "    \n",
    "    return comparison\n",
    "\n",
    "if 'index' in daily_returns.columns:\n",
    "    daily_returns = daily_returns.drop(['index'], axis=1).copy()\n",
    "\n",
    "market_return = np.prod(1 + sp_500_daily_returns.dropna())**(252 / len(sp_500_daily_returns.dropna())) - 1\n",
    "risk_free_rate = 0.0477 \n",
    "result_df = calc_expectedreturns(daily_returns, risk_free_rate,betas, market_return)\n",
    "print(result_df)"
   ]
  },
  {
   "cell_type": "code",
   "execution_count": 110,
   "metadata": {},
   "outputs": [
    {
     "name": "stderr",
     "output_type": "stream",
     "text": [
      "C:\\Users\\bramg\\AppData\\Local\\Temp\\ipykernel_25856\\1437454689.py:2: SettingWithCopyWarning: \n",
      "A value is trying to be set on a copy of a slice from a DataFrame.\n",
      "Try using .loc[row_indexer,col_indexer] = value instead\n",
      "\n",
      "See the caveats in the documentation: https://pandas.pydata.org/pandas-docs/stable/user_guide/indexing.html#returning-a-view-versus-a-copy\n",
      "  undervalued_stocks['Undervalued Score'] = undervalued_stocks['Average Return'] - undervalued_stocks['Expected Return']\n",
      "C:\\Users\\bramg\\AppData\\Local\\Temp\\ipykernel_25856\\1437454689.py:13: SettingWithCopyWarning: \n",
      "A value is trying to be set on a copy of a slice from a DataFrame.\n",
      "Try using .loc[row_indexer,col_indexer] = value instead\n",
      "\n",
      "See the caveats in the documentation: https://pandas.pydata.org/pandas-docs/stable/user_guide/indexing.html#returning-a-view-versus-a-copy\n",
      "  overvalued_stocks['Potential'] = overvalued_stocks['Average Return'] - overvalued_stocks['Expected Return']\n"
     ]
    }
   ],
   "source": [
    "undervalued_stocks = result_df[result_df['Over/Under Valued'] == 'Undervalued']\n",
    "undervalued_stocks['Undervalued Score'] = undervalued_stocks['Average Return'] - undervalued_stocks['Expected Return']\n",
    "undervalued_count = len(undervalued_stocks)\n",
    "\n",
    "if undervalued_count > 200:\n",
    "    # If there are more than 200 undervalued stocks, select the MOST undervalued\n",
    "    most_undervalued_stocks = undervalued_stocks.sort_values(by='Undervalued Score', ascending=False)\n",
    "    top_undervalued_stocks = most_undervalued_stocks.head(200)\n",
    "    selected_stocks = top_undervalued_stocks.index\n",
    "\n",
    "elif undervalued_count < 200:\n",
    "    # If there are less than 200 undervalued stocks, select out of the overvalued the least overvalued ones\n",
    "    overvalued_stocks = result_df[result_df['Over/Under Valued'] == 'Overvalued']\n",
    "    overvalued_stocks['Potential'] = overvalued_stocks['Average Return'] - overvalued_stocks['Expected Return']\n",
    "    sorted_overvalued_stocks = overvalued_stocks.sort_values(by='Potential', ascending=False)\n",
    "    combined_stocks = pd.concat([undervalued_stocks, sorted_overvalued_stocks.head(200 - undervalued_count)])\n",
    "    selected_stocks = combined_stocks.index\n",
    "    \n",
    "else: \n",
    "    selected_stocks = undervalued_stocks.index"
   ]
  },
  {
   "cell_type": "code",
   "execution_count": 120,
   "metadata": {},
   "outputs": [],
   "source": [
    "newdata = price_df.drop(price_df.columns[0], axis=1)\n",
    "returns = np.log(newdata/newdata.shift(1))\n",
    "returns = returns.drop(returns.index[0])  \n",
    "filtered_returns = returns[selected_stocks]\n",
    "\n",
    "n_stocks = len(selected_stocks)"
   ]
  },
  {
   "cell_type": "code",
   "execution_count": 131,
   "metadata": {},
   "outputs": [],
   "source": [
    "def objective_function(weights: list, returns):\n",
    "    \n",
    "    mean_returns = np.mean(returns, axis=0)\n",
    "    portfolio_return = weights @  mean_returns\n",
    "\n",
    "    portfolio_std = np.sqrt(weights @ np.cov(returns.T) @ weights.T)\n",
    "\n",
    "    return -1 * (portfolio_return - 0.25 * portfolio_std)  # Minimize the negative of the objective\n",
    "\n",
    "initial_weights = np.array([1 / n_stocks] * n_stocks)\n",
    "constraints = ( \n",
    "        {'type': 'ineq', 'fun': lambda weights: 0.85 - np.sum(weights)},  # Sum of weights >= 0.85\n",
    "        {'type': 'ineq', 'fun': lambda weights: np.sum(weights) - 1.0}  # Sum of weights <= 1\n",
    "    )\n",
    "bounds = tuple((0, 1) for x in range(n_stocks))\n",
    "\n",
    "\n",
    "optimized = opt.minimize(objective_function, initial_weights, args= (filtered_returns), bounds=bounds, constraints=constraints)  # Adjust the method as needed\n",
    "optimal_weights = optimized.x"
   ]
  },
  {
   "cell_type": "code",
   "execution_count": 132,
   "metadata": {},
   "outputs": [
    {
     "name": "stdout",
     "output_type": "stream",
     "text": [
      "AMP: 0.21619339248902458\n",
      "APH: 0.025008820969735127\n",
      "BMY: 0.12754032711157415\n",
      "CDNS: 0.17885060886183704\n",
      "CHD: 0.05343033382738408\n",
      "CHTR: 0.14232028657568482\n",
      "CLX: 0.04722978937923598\n",
      "COP: 0.10380820813611627\n",
      "CSCO: 0.027424325473572094\n",
      "CSX: 0.024113171348031374\n",
      "ELV: 0.054080735827804476\n"
     ]
    }
   ],
   "source": [
    "def calc_normalized_weights(optimal_weights, stock_names, threshold = 0.01):\n",
    "\n",
    "    thresholded_weights = np.where(optimal_weights >= threshold, optimal_weights, 0)\n",
    "\n",
    "    if np.sum(thresholded_weights) > 0:  # Prevent division by zero\n",
    "        normalized_weights = thresholded_weights / np.sum(thresholded_weights)\n",
    "    else:\n",
    "        normalized_weights = thresholded_weights  # In case all are zero, which should not happen\n",
    "    \n",
    "    stocks_with_weights = [(stock, weight) for stock, weight in zip(stock_names, normalized_weights) if weight >= threshold]\n",
    "    # Print stocks with their corresponding weights\n",
    "    \n",
    "    for stock, weight in stocks_with_weights:\n",
    "        print(f\"{stock}: {weight}\")\n",
    "    return normalized_weights\n",
    "\n",
    "stock_names = returns.columns\n",
    "normalized_weights = calc_normalized_weights(optimal_weights, stock_names)"
   ]
  }
 ],
 "metadata": {
  "kernelspec": {
   "display_name": "base",
   "language": "python",
   "name": "python3"
  },
  "language_info": {
   "codemirror_mode": {
    "name": "ipython",
    "version": 3
   },
   "file_extension": ".py",
   "mimetype": "text/x-python",
   "name": "python",
   "nbconvert_exporter": "python",
   "pygments_lexer": "ipython3",
   "version": "3.9.13"
  }
 },
 "nbformat": 4,
 "nbformat_minor": 2
}
