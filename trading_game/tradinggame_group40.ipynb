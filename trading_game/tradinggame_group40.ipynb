{
 "cells": [
  {
   "cell_type": "code",
   "execution_count": 37,
   "metadata": {},
   "outputs": [],
   "source": [
    "import pandas as pd \n",
    "import matplotlib.pyplot as plt\n",
    "import numpy as np\n"
   ]
  },
  {
   "cell_type": "code",
   "execution_count": 65,
   "metadata": {},
   "outputs": [],
   "source": [
    "# data: \n",
    "folder = 'data'\n",
    "xls_dict  = pd.read_excel(folder + '/trading-game-data-20102023.xlsx', sheet_name=None)\n",
    "\n",
    "index_price_df = xls_dict['index-price']\n",
    "price_df = xls_dict['price']\n",
    "size_df = xls_dict['size']\n",
    "price_to_book_df = xls_dict['price-to-book']\n",
    "turnover_df = xls_dict['turnover']"
   ]
  },
  {
   "cell_type": "markdown",
   "metadata": {},
   "source": [
    "## Markowitz Portfolio Theory"
   ]
  },
  {
   "cell_type": "code",
   "execution_count": 61,
   "metadata": {},
   "outputs": [
    {
     "data": {
      "text/plain": [
       "WMT      0.008431\n",
       "KO       0.008471\n",
       "MCD      0.008852\n",
       "BRK.B    0.008859\n",
       "PG       0.009301\n",
       "           ...   \n",
       "SEDG     0.038979\n",
       "CMA      0.040414\n",
       "CTLT     0.041364\n",
       "ZION     0.041840\n",
       "index         NaN\n",
       "Length: 501, dtype: float64"
      ]
     },
     "execution_count": 61,
     "metadata": {},
     "output_type": "execute_result"
    }
   ],
   "source": [
    "\n",
    "price_df = xls_dict['price'].reset_index()\n",
    "price_df['Date'] = pd.to_datetime(price_df['Date'])\n",
    "price_df.set_index('Date', inplace=True)\n",
    "daily_returns = price_df.pct_change()\n",
    "expected_returns = daily_returns.mean()\n",
    "risk = daily_returns.std()\n",
    "\n",
    "risk.sort_values()"
   ]
  },
  {
   "cell_type": "markdown",
   "metadata": {},
   "source": [
    "## CAPM model\n",
    "- Time horizon is the full dataframe"
   ]
  },
  {
   "cell_type": "code",
   "execution_count": 62,
   "metadata": {},
   "outputs": [
    {
     "data": {
      "text/plain": [
       "A       0.912992\n",
       "AAL     1.348263\n",
       "AAPL    1.150799\n",
       "ABBV    0.130669\n",
       "ABNB    1.690057\n",
       "          ...   \n",
       "YUM     0.556312\n",
       "ZBH     0.571193\n",
       "ZBRA    1.702181\n",
       "ZION    2.221824\n",
       "ZTS     0.977542\n",
       "Name: SP500, Length: 500, dtype: float64"
      ]
     },
     "execution_count": 62,
     "metadata": {},
     "output_type": "execute_result"
    }
   ],
   "source": [
    "def calc_CAPM_betas(daily_returns, sp_500_daily_returns):\n",
    "    \"\"\"\n",
    "    Calculate the CAPM beta values for the stocks in the daily_returns DataFrame.\n",
    "    \"\"\"\n",
    "    \n",
    "    # Join the daily returns of the stocks with the S&P 500 daily returns\n",
    "    daily_returns_with_sp500 = daily_returns.join(sp_500_daily_returns.rename('SP500'))\n",
    "    \n",
    "    # Calculate the covariance matrix of the returns\n",
    "    cov_matrix_with_sp500 = daily_returns_with_sp500.cov()\n",
    "    \n",
    "    # The market variance is the variance of the S&P 500 returns\n",
    "    market_var = sp_500_daily_returns.var()\n",
    "    \n",
    "    # Calculate the betas for each stock\n",
    "    betas = cov_matrix_with_sp500.loc[:, 'SP500'] / market_var\n",
    "    \n",
    "    betas = betas.drop(['SP500', 'index'], axis=0)\n",
    "    return betas\n",
    "\n",
    "index_price_df = xls_dict['index-price'].reset_index()\n",
    "index_price_df['Date'] = pd.to_datetime(index_price_df['Date'])\n",
    "index_price_df.set_index('Date', inplace=True)\n",
    "sp_500_daily_returns = index_price_df['S&P 500'].pct_change()\n",
    "\n",
    "betas = calc_CAPM_betas(daily_returns, sp_500_daily_returns)\n",
    "betas"
   ]
  },
  {
   "cell_type": "code",
   "execution_count": 71,
   "metadata": {},
   "outputs": [
    {
     "name": "stdout",
     "output_type": "stream",
     "text": [
      "          Beta  Expected Return  Average Return Over/Under Valued\n",
      "A     0.912992         0.119640       -0.361128        Overvalued\n",
      "AAL   1.348263         0.153937       -0.107494        Overvalued\n",
      "AAPL  1.150799         0.138378        0.378982       Undervalued\n",
      "ABBV  0.130669         0.057996       -0.104357        Overvalued\n",
      "ABNB  1.690057         0.180869        0.479042       Undervalued\n",
      "...        ...              ...             ...               ...\n",
      "YUM   0.556312         0.091535       -0.068445        Overvalued\n",
      "ZBH   0.571193         0.092707       -0.225642        Overvalued\n",
      "ZBRA  1.702181         0.181824       -0.195368        Overvalued\n",
      "ZION  2.221824         0.222770       -0.390007        Overvalued\n",
      "ZTS   0.977542         0.124726        0.193654       Undervalued\n",
      "\n",
      "[500 rows x 4 columns]\n"
     ]
    }
   ],
   "source": [
    "def calc_expectedreturns(daily_returns, rf_rate, betas, market_return):\n",
    "    expected_returns = rf_rate + betas * (market_return - rf_rate)\n",
    "    \n",
    "    average_returns = daily_returns.mean() * 252  # Assuming 252 trading days in a year\n",
    "\n",
    "    # Step 3: Determine undervalued/overvalued stocks\n",
    "    comparison = pd.DataFrame({\n",
    "        'Beta': betas,\n",
    "        'Expected Return': expected_returns,\n",
    "        'Average Return': average_returns\n",
    "    })\n",
    "    comparison['Over/Under Valued'] = comparison.apply(\n",
    "        lambda row: 'Undervalued' if row['Average Return'] > row['Expected Return'] else 'Overvalued',\n",
    "        axis=1\n",
    "    )\n",
    "    \n",
    "    return comparison\n",
    "\n",
    "if 'index' in daily_returns.columns:\n",
    "    daily_returns = daily_returns.drop(['index'], axis=1).copy()\n",
    "\n",
    "market_return = np.prod(1 + sp_500_daily_returns.dropna())**(252 / len(sp_500_daily_returns.dropna())) - 1\n",
    "risk_free_rate = 0.0477 \n",
    "result_df = calc_expectedreturns(daily_returns, risk_free_rate,betas, market_return)\n",
    "print(result_df)"
   ]
  },
  {
   "cell_type": "code",
   "execution_count": 72,
   "metadata": {},
   "outputs": [
    {
     "name": "stdout",
     "output_type": "stream",
     "text": [
      "          Beta  Expected Return  Average Return Over/Under Valued\n",
      "AAPL  1.150799         0.138378        0.378982       Undervalued\n",
      "ABNB  1.690057         0.180869        0.479042       Undervalued\n",
      "ACGL  0.669985         0.100492        0.374997       Undervalued\n",
      "ACN   1.100715         0.134431        0.159935       Undervalued\n",
      "ADBE  1.710577         0.182486        0.645633       Undervalued\n",
      "...        ...              ...             ...               ...\n",
      "WDC   1.241642         0.145536        0.452524       Undervalued\n",
      "WELL  0.881319         0.117144        0.339109       Undervalued\n",
      "WMT   0.386447         0.078150        0.149989       Undervalued\n",
      "WST   0.823195         0.112564        0.583559       Undervalued\n",
      "ZTS   0.977542         0.124726        0.193654       Undervalued\n",
      "\n",
      "[159 rows x 4 columns]\n"
     ]
    }
   ],
   "source": [
    "undervalued_stocks = result_df[result_df['Over/Under Valued'] == 'Undervalued']\n",
    "print(undervalued_stocks)"
   ]
  }
 ],
 "metadata": {
  "kernelspec": {
   "display_name": "base",
   "language": "python",
   "name": "python3"
  },
  "language_info": {
   "codemirror_mode": {
    "name": "ipython",
    "version": 3
   },
   "file_extension": ".py",
   "mimetype": "text/x-python",
   "name": "python",
   "nbconvert_exporter": "python",
   "pygments_lexer": "ipython3",
   "version": "3.9.13"
  }
 },
 "nbformat": 4,
 "nbformat_minor": 2
}
