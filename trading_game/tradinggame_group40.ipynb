{
 "cells": [
  {
   "cell_type": "code",
   "execution_count": 73,
   "metadata": {},
   "outputs": [],
   "source": [
    "import numpy as np\n",
    "import matplotlib.pyplot as plt\n",
    "import pandas as pd\n",
    "import scipy.optimize as opt"
   ]
  },
  {
   "cell_type": "code",
   "execution_count": 74,
   "metadata": {},
   "outputs": [],
   "source": [
    "# data: \n",
    "folder = 'data'\n",
    "xls_dict  = pd.read_excel(folder + '/trading-game-data-20102023.xlsx', sheet_name=None)\n",
    "\n",
    "index_price_df = xls_dict['index-price']\n",
    "price_df = xls_dict['price']\n",
    "size_df = xls_dict['size']\n",
    "price_to_book_df = xls_dict['price-to-book']\n",
    "turnover_df = xls_dict['turnover']"
   ]
  },
  {
   "cell_type": "markdown",
   "metadata": {},
   "source": [
    "## Markowitz Portfolio Theory"
   ]
  },
  {
   "cell_type": "code",
   "execution_count": 75,
   "metadata": {},
   "outputs": [
    {
     "data": {
      "text/plain": [
       "WMT      0.008431\n",
       "KO       0.008471\n",
       "MCD      0.008852\n",
       "BRK.B    0.008859\n",
       "PG       0.009301\n",
       "           ...   \n",
       "SEDG     0.038979\n",
       "CMA      0.040414\n",
       "CTLT     0.041364\n",
       "ZION     0.041840\n",
       "index         NaN\n",
       "Length: 501, dtype: float64"
      ]
     },
     "execution_count": 75,
     "metadata": {},
     "output_type": "execute_result"
    }
   ],
   "source": [
    "\n",
    "price_df = xls_dict['price'].reset_index()\n",
    "price_df['Date'] = pd.to_datetime(price_df['Date'])\n",
    "price_df.set_index('Date', inplace=True)\n",
    "daily_returns = price_df.pct_change()\n",
    "expected_returns = daily_returns.mean()\n",
    "risk = daily_returns.std()\n",
    "\n",
    "risk.sort_values()"
   ]
  },
  {
   "cell_type": "markdown",
   "metadata": {},
   "source": [
    "## CAPM model\n",
    "- Time horizon is the full dataframe"
   ]
  },
  {
   "cell_type": "code",
   "execution_count": 62,
   "metadata": {},
   "outputs": [
    {
     "data": {
      "text/plain": [
       "A       0.912992\n",
       "AAL     1.348263\n",
       "AAPL    1.150799\n",
       "ABBV    0.130669\n",
       "ABNB    1.690057\n",
       "          ...   \n",
       "YUM     0.556312\n",
       "ZBH     0.571193\n",
       "ZBRA    1.702181\n",
       "ZION    2.221824\n",
       "ZTS     0.977542\n",
       "Name: SP500, Length: 500, dtype: float64"
      ]
     },
     "execution_count": 62,
     "metadata": {},
     "output_type": "execute_result"
    }
   ],
   "source": [
    "def calc_CAPM_betas(daily_returns, sp_500_daily_returns):\n",
    "    \"\"\"\n",
    "    Calculate the CAPM beta values for the stocks in the daily_returns DataFrame.\n",
    "    \"\"\"\n",
    "    \n",
    "    # Join the daily returns of the stocks with the S&P 500 daily returns\n",
    "    daily_returns_with_sp500 = daily_returns.join(sp_500_daily_returns.rename('SP500'))\n",
    "    \n",
    "    # Calculate the covariance matrix of the returns\n",
    "    cov_matrix_with_sp500 = daily_returns_with_sp500.cov()\n",
    "    \n",
    "    # The market variance is the variance of the S&P 500 returns\n",
    "    market_var = sp_500_daily_returns.var()\n",
    "    \n",
    "    # Calculate the betas for each stock\n",
    "    betas = cov_matrix_with_sp500.loc[:, 'SP500'] / market_var\n",
    "    \n",
    "    betas = betas.drop(['SP500', 'index'], axis=0)\n",
    "    return betas\n",
    "\n",
    "index_price_df = xls_dict['index-price'].reset_index()\n",
    "index_price_df['Date'] = pd.to_datetime(index_price_df['Date'])\n",
    "index_price_df.set_index('Date', inplace=True)\n",
    "sp_500_daily_returns = index_price_df['S&P 500'].pct_change()\n",
    "\n",
    "betas = calc_CAPM_betas(daily_returns, sp_500_daily_returns)\n",
    "betas"
   ]
  },
  {
   "cell_type": "code",
   "execution_count": 71,
   "metadata": {},
   "outputs": [
    {
     "name": "stdout",
     "output_type": "stream",
     "text": [
      "          Beta  Expected Return  Average Return Over/Under Valued\n",
      "A     0.912992         0.119640       -0.361128        Overvalued\n",
      "AAL   1.348263         0.153937       -0.107494        Overvalued\n",
      "AAPL  1.150799         0.138378        0.378982       Undervalued\n",
      "ABBV  0.130669         0.057996       -0.104357        Overvalued\n",
      "ABNB  1.690057         0.180869        0.479042       Undervalued\n",
      "...        ...              ...             ...               ...\n",
      "YUM   0.556312         0.091535       -0.068445        Overvalued\n",
      "ZBH   0.571193         0.092707       -0.225642        Overvalued\n",
      "ZBRA  1.702181         0.181824       -0.195368        Overvalued\n",
      "ZION  2.221824         0.222770       -0.390007        Overvalued\n",
      "ZTS   0.977542         0.124726        0.193654       Undervalued\n",
      "\n",
      "[500 rows x 4 columns]\n"
     ]
    }
   ],
   "source": [
    "def calc_expectedreturns(daily_returns, rf_rate, betas, market_return):\n",
    "    expected_returns = rf_rate + betas * (market_return - rf_rate)\n",
    "    \n",
    "    average_returns = daily_returns.mean() * 252  # Assuming 252 trading days in a year\n",
    "\n",
    "    # Step 3: Determine undervalued/overvalued stocks\n",
    "    comparison = pd.DataFrame({\n",
    "        'Beta': betas,\n",
    "        'Expected Return': expected_returns,\n",
    "        'Average Return': average_returns\n",
    "    })\n",
    "    comparison['Over/Under Valued'] = comparison.apply(\n",
    "        lambda row: 'Undervalued' if row['Average Return'] > row['Expected Return'] else 'Overvalued',\n",
    "        axis=1\n",
    "    )\n",
    "    \n",
    "    return comparison\n",
    "\n",
    "if 'index' in daily_returns.columns:\n",
    "    daily_returns = daily_returns.drop(['index'], axis=1).copy()\n",
    "\n",
    "market_return = np.prod(1 + sp_500_daily_returns.dropna())**(252 / len(sp_500_daily_returns.dropna())) - 1\n",
    "risk_free_rate = 0.0477 \n",
    "result_df = calc_expectedreturns(daily_returns, risk_free_rate,betas, market_return)\n",
    "print(result_df)"
   ]
  },
  {
   "cell_type": "code",
   "execution_count": 72,
   "metadata": {},
   "outputs": [
    {
     "name": "stdout",
     "output_type": "stream",
     "text": [
      "          Beta  Expected Return  Average Return Over/Under Valued\n",
      "AAPL  1.150799         0.138378        0.378982       Undervalued\n",
      "ABNB  1.690057         0.180869        0.479042       Undervalued\n",
      "ACGL  0.669985         0.100492        0.374997       Undervalued\n",
      "ACN   1.100715         0.134431        0.159935       Undervalued\n",
      "ADBE  1.710577         0.182486        0.645633       Undervalued\n",
      "...        ...              ...             ...               ...\n",
      "WDC   1.241642         0.145536        0.452524       Undervalued\n",
      "WELL  0.881319         0.117144        0.339109       Undervalued\n",
      "WMT   0.386447         0.078150        0.149989       Undervalued\n",
      "WST   0.823195         0.112564        0.583559       Undervalued\n",
      "ZTS   0.977542         0.124726        0.193654       Undervalued\n",
      "\n",
      "[159 rows x 4 columns]\n"
     ]
    }
   ],
   "source": [
    "undervalued_stocks = result_df[result_df['Over/Under Valued'] == 'Undervalued']\n",
    "print(undervalued_stocks)"
   ]
  },
  {
   "cell_type": "code",
   "execution_count": 87,
   "metadata": {},
   "outputs": [],
   "source": [
    "data = pd.read_excel(folder + '/trading-game-data-20102023.xlsx', sheet_name='price')\n",
    "\n",
    "n_stocks = 200\n",
    "newdata = data.drop(data.columns[0], axis=1)\n",
    "newdata = newdata.iloc[:,0:n_stocks]\n",
    "returns = np.log(newdata/newdata.shift(1))\n",
    "returns = returns.drop(returns.index[0])  "
   ]
  },
  {
   "cell_type": "code",
   "execution_count": 89,
   "metadata": {},
   "outputs": [
    {
     "name": "stdout",
     "output_type": "stream",
     "text": [
      "Optimized Weights: [9.82333607e-13 5.39061979e-20 1.38369390e-12 3.86140681e-20\n",
      " 2.29069602e-20 1.50190209e-12 3.84233936e-20 1.54462125e-12\n",
      " 3.25768711e-20 4.52390859e-20 2.37245464e-20 4.92081415e-20\n",
      " 2.68979731e-20 1.37077609e-12 6.45974883e-20 5.36032240e-20\n",
      " 5.11060756e-12 4.42162817e-20 5.01258128e-20 5.14036290e-20\n",
      " 5.68350680e-20 4.35903058e-20 3.76023617e-20 3.01175630e-20\n",
      " 5.43683760e-20 8.66947871e-14 4.70738357e-20 3.79827102e-20\n",
      " 2.00378940e-20 3.21956113e-20 4.52953939e-20 3.90423507e-20\n",
      " 2.64354643e-20 1.38581833e-12 5.53811707e-03 5.01633838e-20\n",
      " 6.00072337e-20 4.79308012e-20 9.81745870e-14 3.83279749e-13\n",
      " 2.42892540e-20 2.66328642e-13 4.36613234e-20 3.19924095e-20\n",
      " 2.77793320e-02 4.03867988e-20 4.85454577e-02 4.58096675e-20\n",
      " 2.13622630e-20 1.70528748e-12 5.03085934e-20 4.74827227e-13\n",
      " 2.43745610e-20 1.59748893e-12 4.68554257e-20 4.91533552e-20\n",
      " 1.55642269e-12 4.12767706e-20 4.59243347e-20 5.45903177e-13\n",
      " 3.44813229e-20 5.77985072e-20 2.12836895e-20 4.61093225e-20\n",
      " 4.43399000e-12 3.93309705e-20 3.74745080e-20 2.16856319e-20\n",
      " 4.74573430e-13 5.35376057e-13 3.74961223e-20 2.49793748e-20\n",
      " 3.71451717e-20 4.75890331e-20 4.87968675e-20 4.59164137e-20\n",
      " 4.21159770e-20 2.44358559e-20 1.69604379e-12 3.32102539e-20\n",
      " 3.96032145e-20 5.22923230e-20 2.13240065e-01 1.61200045e-12\n",
      " 1.54793419e-12 4.82661105e-20 5.41229811e-20 2.16909849e-03\n",
      " 1.92837402e-20 4.68338727e-20 2.36762958e-20 2.58046457e-20\n",
      " 1.50588023e-12 3.60711051e-02 4.74574671e-20 4.00327702e-20\n",
      " 1.57330643e-12 2.73606650e-20 4.33724758e-20 5.48147703e-20\n",
      " 5.12085484e-20 4.03646775e-20 1.29402929e-01 6.04846375e-02\n",
      " 4.21173703e-20 6.00738102e-13 2.54492149e-20 4.85867577e-13\n",
      " 4.34967254e-20 4.62790283e-20 4.32391289e-20 1.07912577e-01\n",
      " 1.46785237e-12 1.37444960e-12 9.42104509e-04 3.08812153e-20\n",
      " 1.37903452e-12 2.33534609e-02 1.21618739e-12 1.62825261e-12\n",
      " 5.60245465e-20 5.27927039e-20 1.50866137e-12 7.79871654e-14\n",
      " 1.69118687e-12 3.30876447e-20 6.26974475e-12 3.74511725e-20\n",
      " 1.40145603e-13 4.32763838e-20 6.00502665e-20 4.54153641e-20\n",
      " 3.28611363e-13 5.46092740e-20 1.10495508e-13 5.21916782e-20\n",
      " 5.82699070e-13 3.70233583e-20 3.49549582e-13 1.56166521e-12\n",
      " 2.58178524e-20 3.89298863e-20 4.32948513e-13 1.95202994e-20\n",
      " 5.80257224e-20 2.75010723e-20 1.48891326e-12 5.21683765e-20\n",
      " 4.96366621e-20 4.43783579e-20 1.72664382e-12 1.43818176e-12\n",
      " 3.93257718e-20 4.68693811e-20 1.81265830e-20 3.87056791e-20\n",
      " 2.81971407e-20 3.14861609e-20 3.88197864e-20 3.31658729e-20\n",
      " 1.16994327e-13 3.96809766e-20 2.34481304e-13 4.64097431e-20\n",
      " 5.18995067e-20 3.52218695e-20 2.57166766e-13 3.58871977e-20\n",
      " 3.51798839e-13 3.77247242e-20 4.71510599e-13 1.44892628e-13\n",
      " 1.75396621e-12 5.38360416e-20 1.54468859e-12 1.17752681e-13\n",
      " 4.78340809e-20 6.98084098e-14 5.75127024e-20 4.92763523e-20\n",
      " 6.00541951e-13 4.94256061e-20 2.92626957e-20 7.59195247e-02\n",
      " 1.97286295e-20 2.80232522e-20 1.50632802e-12 7.18010968e-02\n",
      " 3.04405587e-20 3.34857064e-20 5.51084290e-20 4.92462940e-20\n",
      " 6.50023038e-14 1.49290080e-12 4.31970471e-20 3.88945557e-20\n",
      " 1.57703806e-12 5.59139327e-20 1.96840492e-01 1.01446194e-12]\n"
     ]
    }
   ],
   "source": [
    "def objective_function(weights: list, returns):\n",
    "    \n",
    "    mean_returns = np.mean(returns, axis=0)\n",
    "    portfolio_return = weights @  mean_returns\n",
    "\n",
    "    portfolio_std = np.sqrt(weights @ np.cov(returns.T) @ weights.T)\n",
    "\n",
    "    return -1 * (portfolio_return - 0.25 * portfolio_std)  # Minimize the negative of the objective\n",
    "\n",
    "initial_weights = np.array([1 / n_stocks] * n_stocks)\n",
    "constraints = ( \n",
    "        {'type': 'ineq', 'fun': lambda weights: 0.85 - np.sum(weights)},  # Sum of weights >= 0.85\n",
    "        {'type': 'ineq', 'fun': lambda weights: np.sum(weights) - 1.0}  # Sum of weights <= 1\n",
    "    )\n",
    "bounds = tuple((0, 1) for x in range(n_stocks))\n",
    "\n",
    "\n",
    "optimized = opt.minimize(objective_function, initial_weights, args= (returns), bounds=bounds, constraints=constraints)  # Adjust the method as needed\n",
    "optimal_weights = optimized.x"
   ]
  },
  {
   "cell_type": "code",
   "execution_count": 99,
   "metadata": {},
   "outputs": [
    {
     "name": "stdout",
     "output_type": "stream",
     "text": [
      "ATVI: 0.028021700706215857\n",
      "AVGO: 0.048969006359319014\n",
      "CBOE: 0.2151005390019007\n",
      "CHD: 0.03638581772687728\n",
      "CME: 0.13053194160937764\n",
      "CMG: 0.06101235294191748\n",
      "COR: 0.10885409139976551\n",
      "CRM: 0.023557214790272625\n",
      "FDX: 0.07658190624843678\n",
      "FICO: 0.07242754593603655\n",
      "GE: 0.19855788327988066\n"
     ]
    }
   ],
   "source": [
    "def calc_normalized_weights(optimal_weights, stock_names, threshold = 0.01):\n",
    "\n",
    "    thresholded_weights = np.where(optimal_weights >= threshold, optimal_weights, 0)\n",
    "\n",
    "    if np.sum(thresholded_weights) > 0:  # Prevent division by zero\n",
    "        normalized_weights = thresholded_weights / np.sum(thresholded_weights)\n",
    "    else:\n",
    "        normalized_weights = thresholded_weights  # In case all are zero, which should not happen\n",
    "    \n",
    "    stocks_with_weights = [(stock, weight) for stock, weight in zip(stock_names, normalized_weights) if weight >= threshold]\n",
    "    # Print stocks with their corresponding weights\n",
    "    \n",
    "    for stock, weight in stocks_with_weights:\n",
    "        print(f\"{stock}: {weight}\")\n",
    "    return normalized_weights\n",
    "\n",
    "stock_names = returns.columns\n",
    "normalized_weights = calc_normalized_weights(optimal_weights, stock_names)"
   ]
  }
 ],
 "metadata": {
  "kernelspec": {
   "display_name": "base",
   "language": "python",
   "name": "python3"
  },
  "language_info": {
   "codemirror_mode": {
    "name": "ipython",
    "version": 3
   },
   "file_extension": ".py",
   "mimetype": "text/x-python",
   "name": "python",
   "nbconvert_exporter": "python",
   "pygments_lexer": "ipython3",
   "version": "3.9.13"
  }
 },
 "nbformat": 4,
 "nbformat_minor": 2
}
